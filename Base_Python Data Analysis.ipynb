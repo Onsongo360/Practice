{
 "cells": [
  {
   "cell_type": "markdown",
   "metadata": {},
   "source": [
    "# Data Manipulation in Base Python\n",
    "\n",
    "In this section you will practice opening data files that use the CSV and JSON formats, then loading them into sensible objects using the csv and json libraries in order to perform additional analysis.\n"
   ]
  },
  {
   "cell_type": "markdown",
   "metadata": {},
   "source": [
    "## Learning Goals\n",
    "1. Construct list and dictionary comprehension\n",
    "2. Extract data from nested data structures\n",
    "3. Write functions to transform data\n"
   ]
  },
  {
   "cell_type": "markdown",
   "metadata": {},
   "source": [
    "# Lists\n",
    "\n",
    "## List Methods\n",
    "Make sure you're confortable with the following list methods:\n",
    "\n",
    "- .append(): adds the input element to the end of a list\n",
    "- .pop(): removes and returns the element with input index from the list\n",
    "- .extend(): adds the elements in the input iterable to the end of a list\n",
    "- .index(): returns the 1st place in alist where the argument is found\n",
    "- .remove(): removes element by value\n",
    "- .count(): returns the number of occurrences of the input element in a list"
   ]
  },
  {
   "cell_type": "markdown",
   "metadata": {},
   "source": [
    "# List Refresher\n",
    "Lists are used to store multiple items in a single variable.\n",
    "\n",
    "Lists are one of 4 built-in data types in Python used to store collections of data, the other 3 are Tuple, Set, and Dictionary, all with different qualities and usage.\n",
    "\n",
    "Lists are created using square brackets []\n",
    "\n",
    "**Example**: thislist = [\"apple\", \"banana\", \"cherry\"]\n",
    "\n",
    "List items are ordered, changeable, and allow duplicate values.\n",
    "\n",
    "List items are indexed, the first item has index [0], the second item has index [1] etc.\n",
    "\n",
    "**Ordered**\n",
    "When we say that lists are ordered, it means that the items have a defined order, and that order will not change.\n",
    "\n",
    "If you add new items to a list, the new items will be placed at the end of the list.\n",
    "\n",
    "**Note: There are some list methods that will change the order, but in general: the order of the items will not change.**\n",
    "\n",
    "__Changeable__\n",
    "The list is changeable, meaning that we can change, add, and remove items in a list after it has been created.\n",
    "\n",
    "**Allow Duplicates**\n",
    "Since lists are indexed, lists can have items with the same value:\n",
    "thislist = [\"apple\", \"banana\", \"cherry\", \"apple\", \"cherry\"]\n",
    "\n",
    "**List Length**\n",
    "To determine how many items a list has, use the len() function:\n",
    "\n",
    "**List Items - Data Types**\n",
    "List items can be of any data type:\n",
    "list1 = [\"abc\", 34, True, 40, \"male\"]\n",
    "\n",
    "**The list() Constructor**\n",
    "It is also possible to use the list() constructor when creating a new list.\n",
    "\n",
    "# Python Collections (Arrays)\n",
    "There are four collection data types in the Python programming language:\n",
    "\n",
    "**List** is a collection which is ordered and changeable. Allows duplicate members.\n",
    "**Tuple** is a collection which is ordered and unchangeable. Allows duplicate members.\n",
    "**Set** is a collection which is unordered, unchangeable*, and unindexed. No duplicate members.\n",
    "**Dictionary** is a collection which is ordered** and changeable. No duplicate members.\n",
    "When choosing a collection type, it is useful to understand the properties of that type. Choosing the right type for a particular data set could mean retention of meaning, and, it could mean an increase in efficiency or security.\n",
    "\n"
   ]
  },
  {
   "cell_type": "code",
   "execution_count": null,
   "metadata": {},
   "outputs": [],
   "source": []
  }
 ],
 "metadata": {
  "kernelspec": {
   "display_name": "Python (learn-env)",
   "language": "python",
   "name": "learn-env"
  },
  "language_info": {
   "codemirror_mode": {
    "name": "ipython",
    "version": 3
   },
   "file_extension": ".py",
   "mimetype": "text/x-python",
   "name": "python",
   "nbconvert_exporter": "python",
   "pygments_lexer": "ipython3",
   "version": "3.8.5"
  }
 },
 "nbformat": 4,
 "nbformat_minor": 4
}
